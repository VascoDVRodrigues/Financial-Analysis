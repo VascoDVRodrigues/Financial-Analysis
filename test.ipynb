{
 "cells": [
  {
   "cell_type": "code",
   "execution_count": null,
   "metadata": {},
   "outputs": [],
   "source": [
    "import sqlite3 as sl\n",
    "\n",
    "\n",
    "from FinancialManager import FinanceManager\n"
   ]
  },
  {
   "cell_type": "code",
   "execution_count": null,
   "metadata": {},
   "outputs": [],
   "source": [
    "con = sl.connect('my-finances.db')\n",
    "\n",
    "with con:\n",
    "    try:\n",
    "        con.execute(\"\"\"CREATE TABLE TRANSACTIONS (id INTEGER NOT NULL PRIMARY KEY AUTOINCREMENT,description TEXT,valueIn REAL, valueOut REAL, date TEXT, category TEXT, hash TEXT);\"\"\")\n",
    "    except Exception as e:\n",
    "        print(f\"Error: {e}\")\n"
   ]
  },
  {
   "cell_type": "code",
   "execution_count": null,
   "metadata": {},
   "outputs": [],
   "source": [
    "finance = FinanceManager()\n",
    "finance.fetchDataFrame()"
   ]
  },
  {
   "cell_type": "code",
   "execution_count": null,
   "metadata": {},
   "outputs": [],
   "source": [
    "cursor = con.cursor()\n",
    "cursor.execute(\"DROP TABLE TRANSACTIONS\")\n",
    "print(\"Table dropped... \")\n",
    "con.commit()\n"
   ]
  }
 ],
 "metadata": {
  "kernelspec": {
   "display_name": "Python 3.9.12 ('base')",
   "language": "python",
   "name": "python3"
  },
  "language_info": {
   "codemirror_mode": {
    "name": "ipython",
    "version": 3
   },
   "file_extension": ".py",
   "mimetype": "text/x-python",
   "name": "python",
   "nbconvert_exporter": "python",
   "pygments_lexer": "ipython3",
   "version": "3.9.12"
  },
  "orig_nbformat": 4,
  "vscode": {
   "interpreter": {
    "hash": "6a5b95b8d036a02c1d12ca8b76292596a644f64daaa33d510b75f7e2add2c6ce"
   }
  }
 },
 "nbformat": 4,
 "nbformat_minor": 2
}
