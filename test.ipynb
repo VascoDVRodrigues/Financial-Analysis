{
 "cells": [
  {
   "cell_type": "code",
   "execution_count": 49,
   "metadata": {},
   "outputs": [],
   "source": [
    "import sqlite3 as sl\n",
    "\n",
    "\n",
    "from FinancialManager import FinanceManager\n"
   ]
  },
  {
   "cell_type": "code",
   "execution_count": 50,
   "metadata": {},
   "outputs": [
    {
     "name": "stdout",
     "output_type": "stream",
     "text": [
      "Error: table TRANSACTIONS already exists\n"
     ]
    }
   ],
   "source": [
    "con = sl.connect('my-finances.db')\n",
    "\n",
    "with con:\n",
    "    try:\n",
    "        con.execute(\"\"\"CREATE TABLE TRANSACTIONS (id INTEGER NOT NULL PRIMARY KEY AUTOINCREMENT,description TEXT,valueIn REAL, valueOut REAL, date TEXT, category TEXT, hash TEXT);\"\"\")\n",
    "    except Exception as e:\n",
    "        print(f\"Error: {e}\")\n"
   ]
  },
  {
   "cell_type": "code",
   "execution_count": 51,
   "metadata": {},
   "outputs": [
    {
     "name": "stdout",
     "output_type": "stream",
     "text": [
      "Added 0 new transaction/s!\n"
     ]
    }
   ],
   "source": [
    "finance = FinanceManager()\n",
    "finance.fetchDataFrame()"
   ]
  },
  {
   "cell_type": "code",
   "execution_count": 52,
   "metadata": {},
   "outputs": [
    {
     "name": "stdout",
     "output_type": "stream",
     "text": [
      "Table dropped... \n"
     ]
    }
   ],
   "source": [
    "\n",
    "\n",
    "#Creating a cursor object using the cursor() method\n",
    "cursor = con.cursor()\n",
    "\n",
    "#Doping EMPLOYEE table if already exists\n",
    "cursor.execute(\"DROP TABLE TRANSACTIONS\")\n",
    "print(\"Table dropped... \")\n",
    "\n",
    "#Commit your changes in the database\n",
    "con.commit()\n",
    "\n",
    "    #Closing the connection\n"
   ]
  }
 ],
 "metadata": {
  "kernelspec": {
   "display_name": "Python 3.9.7 ('base')",
   "language": "python",
   "name": "python3"
  },
  "language_info": {
   "codemirror_mode": {
    "name": "ipython",
    "version": 3
   },
   "file_extension": ".py",
   "mimetype": "text/x-python",
   "name": "python",
   "nbconvert_exporter": "python",
   "pygments_lexer": "ipython3",
   "version": "3.9.7"
  },
  "orig_nbformat": 4,
  "vscode": {
   "interpreter": {
    "hash": "a405f6aa20dc1e9a653fc013221e29fd77d9a05a8a250f003471ebba556418d2"
   }
  }
 },
 "nbformat": 4,
 "nbformat_minor": 2
}
