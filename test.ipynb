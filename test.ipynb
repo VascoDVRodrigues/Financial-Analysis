{
 "cells": [
  {
   "cell_type": "code",
   "execution_count": 1,
   "metadata": {},
   "outputs": [],
   "source": [
    "from FinancialManager import FinanceManager\n",
    "from DatabaseManager import DatabaseManager\n"
   ]
  },
  {
   "cell_type": "code",
   "execution_count": 2,
   "metadata": {},
   "outputs": [],
   "source": [
    "finance = FinanceManager()\n",
    "dbManager = DatabaseManager()\n"
   ]
  },
  {
   "cell_type": "code",
   "execution_count": 9,
   "metadata": {},
   "outputs": [
    {
     "name": "stdout",
     "output_type": "stream",
     "text": [
      "Transaction table created successfully.\n"
     ]
    }
   ],
   "source": [
    "dbManager.createTransactionTable()"
   ]
  },
  {
   "cell_type": "code",
   "execution_count": 3,
   "metadata": {},
   "outputs": [
    {
     "name": "stdout",
     "output_type": "stream",
     "text": [
      "Error: no such table: TRANSACTIONS\n"
     ]
    },
    {
     "ename": "ProgrammingError",
     "evalue": "Cannot operate on a closed database.",
     "output_type": "error",
     "traceback": [
      "\u001b[0;31m---------------------------------------------------------------------------\u001b[0m",
      "\u001b[0;31mOperationalError\u001b[0m                          Traceback (most recent call last)",
      "File \u001b[0;32m~/Desktop/Financial-Analysis/FinancialManager.py:52\u001b[0m, in \u001b[0;36mFinanceManager.fetchDataFrame\u001b[0;34m(self)\u001b[0m\n\u001b[1;32m     51\u001b[0m     con\u001b[39m.\u001b[39mclose()\n\u001b[0;32m---> 52\u001b[0m     \u001b[39mraise\u001b[39;00m e\n\u001b[1;32m     53\u001b[0m con\u001b[39m.\u001b[39mexecutemany(sql, data)\n",
      "File \u001b[0;32m~/Desktop/Financial-Analysis/FinancialManager.py:45\u001b[0m, in \u001b[0;36mFinanceManager.fetchDataFrame\u001b[0;34m(self)\u001b[0m\n\u001b[1;32m     44\u001b[0m hash_object \u001b[39m=\u001b[39m hashlib\u001b[39m.\u001b[39mmd5((parse[\u001b[39m2\u001b[39m] \u001b[39m+\u001b[39m parse[\u001b[39m4\u001b[39m]\u001b[39m.\u001b[39mreplace(\u001b[39m'\u001b[39m\u001b[39m,\u001b[39m\u001b[39m'\u001b[39m,\u001b[39m'\u001b[39m\u001b[39m.\u001b[39m\u001b[39m'\u001b[39m) \u001b[39m+\u001b[39m \u001b[39m'\u001b[39m\u001b[39m0.0\u001b[39m\u001b[39m'\u001b[39m \u001b[39m+\u001b[39m parse[\u001b[39m0\u001b[39m])\u001b[39m.\u001b[39mencode())   \n\u001b[0;32m---> 45\u001b[0m cur\u001b[39m.\u001b[39;49mexecute(\u001b[39m\"\u001b[39;49m\u001b[39mSELECT * FROM TRANSACTIONS WHERE hash=?\u001b[39;49m\u001b[39m\"\u001b[39;49m, (hash_object\u001b[39m.\u001b[39;49mhexdigest(),))\n\u001b[1;32m     46\u001b[0m \u001b[39mif\u001b[39;00m(cur\u001b[39m.\u001b[39mfetchone() \u001b[39mis\u001b[39;00m \u001b[39mNone\u001b[39;00m):              \n",
      "\u001b[0;31mOperationalError\u001b[0m: no such table: TRANSACTIONS",
      "\nDuring handling of the above exception, another exception occurred:\n",
      "\u001b[0;31mProgrammingError\u001b[0m                          Traceback (most recent call last)",
      "\u001b[1;32m/home/eyesea/Desktop/Financial-Analysis/test.ipynb Cell 4\u001b[0m in \u001b[0;36m<cell line: 1>\u001b[0;34m()\u001b[0m\n\u001b[0;32m----> <a href='vscode-notebook-cell:/home/eyesea/Desktop/Financial-Analysis/test.ipynb#W3sZmlsZQ%3D%3D?line=0'>1</a>\u001b[0m finance\u001b[39m.\u001b[39;49mfetchDataFrame()\n",
      "File \u001b[0;32m~/Desktop/Financial-Analysis/FinancialManager.py:53\u001b[0m, in \u001b[0;36mFinanceManager.fetchDataFrame\u001b[0;34m(self)\u001b[0m\n\u001b[1;32m     51\u001b[0m         con\u001b[39m.\u001b[39mclose()\n\u001b[1;32m     52\u001b[0m         \u001b[39mraise\u001b[39;00m e\n\u001b[0;32m---> 53\u001b[0m     con\u001b[39m.\u001b[39mexecutemany(sql, data)\n\u001b[1;32m     54\u001b[0m \u001b[39mprint\u001b[39m(\u001b[39mf\u001b[39m\u001b[39m\"\u001b[39m\u001b[39mAdded \u001b[39m\u001b[39m{\u001b[39;00m\u001b[39mlen\u001b[39m(data)\u001b[39m}\u001b[39;00m\u001b[39m new transaction/s!\u001b[39m\u001b[39m\"\u001b[39m)\n\u001b[1;32m     55\u001b[0m con\u001b[39m.\u001b[39mclose()\n",
      "\u001b[0;31mProgrammingError\u001b[0m: Cannot operate on a closed database."
     ]
    }
   ],
   "source": [
    "\n",
    "finance.fetchDataFrame()"
   ]
  },
  {
   "cell_type": "code",
   "execution_count": 10,
   "metadata": {},
   "outputs": [
    {
     "name": "stdout",
     "output_type": "stream",
     "text": [
      "Transaction Table dropped\n"
     ]
    }
   ],
   "source": [
    "dbManager.deleteTransactionTable()"
   ]
  }
 ],
 "metadata": {
  "kernelspec": {
   "display_name": "Python 3.9.12 ('base')",
   "language": "python",
   "name": "python3"
  },
  "language_info": {
   "codemirror_mode": {
    "name": "ipython",
    "version": 3
   },
   "file_extension": ".py",
   "mimetype": "text/x-python",
   "name": "python",
   "nbconvert_exporter": "python",
   "pygments_lexer": "ipython3",
   "version": "3.9.12"
  },
  "orig_nbformat": 4,
  "vscode": {
   "interpreter": {
    "hash": "6a5b95b8d036a02c1d12ca8b76292596a644f64daaa33d510b75f7e2add2c6ce"
   }
  }
 },
 "nbformat": 4,
 "nbformat_minor": 2
}
